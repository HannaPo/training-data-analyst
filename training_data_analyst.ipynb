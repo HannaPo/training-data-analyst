{
  "nbformat": 4,
  "nbformat_minor": 0,
  "metadata": {
    "colab": {
      "provenance": [],
      "authorship_tag": "ABX9TyPnpoz+f1/cOzIACwynxt0o",
      "include_colab_link": true
    },
    "kernelspec": {
      "name": "python3",
      "display_name": "Python 3"
    },
    "language_info": {
      "name": "python"
    }
  },
  "cells": [
    {
      "cell_type": "markdown",
      "metadata": {
        "id": "view-in-github",
        "colab_type": "text"
      },
      "source": [
        "<a href=\"https://colab.research.google.com/github/HannaPo/training-data-analyst/blob/main/training_data_analyst.ipynb\" target=\"_parent\"><img src=\"https://colab.research.google.com/assets/colab-badge.svg\" alt=\"Open In Colab\"/></a>"
      ]
    },
    {
      "cell_type": "code",
      "execution_count": 2,
      "metadata": {
        "colab": {
          "base_uri": "https://localhost:8080/"
        },
        "id": "TQ7TPWm93PLf",
        "outputId": "181af55e-ed37-443e-d5e7-be4d3b914cb5"
      },
      "outputs": [
        {
          "output_type": "stream",
          "name": "stdout",
          "text": [
            "Cloning into 'training-data-analyst'...\n",
            "remote: Enumerating objects: 64128, done.\u001b[K\n",
            "remote: Counting objects: 100% (176/176), done.\u001b[K\n",
            "remote: Compressing objects: 100% (114/114), done.\u001b[K\n",
            "remote: Total 64128 (delta 94), reused 135 (delta 60), pack-reused 63952\u001b[K\n",
            "Receiving objects: 100% (64128/64128), 695.84 MiB | 26.49 MiB/s, done.\n",
            "Resolving deltas: 100% (40893/40893), done.\n",
            "Updating files: 100% (12856/12856), done.\n"
          ]
        }
      ],
      "source": [
        "!git clone https://github.com/GoogleCloudPlatform/training-data-analyst"
      ]
    }
  ]
}